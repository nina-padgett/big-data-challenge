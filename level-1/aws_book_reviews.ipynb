{
  "nbformat": 4,
  "nbformat_minor": 0,
  "metadata": {
    "colab": {
      "name": "aws-book-reviews.ipynb",
      "provenance": [],
      "collapsed_sections": []
    },
    "kernelspec": {
      "name": "python3",
      "display_name": "Python 3"
    },
    "language_info": {
      "name": "python"
    }
  },
  "cells": [
    {
      "cell_type": "code",
      "execution_count": 1,
      "metadata": {
        "id": "I1g-3N6Tt9H1",
        "colab": {
          "base_uri": "https://localhost:8080/"
        },
        "outputId": "a557357b-c6af-430a-d4b0-1bd7c540f01d"
      },
      "outputs": [
        {
          "output_type": "stream",
          "name": "stdout",
          "text": [
            "Get:1 https://cloud.r-project.org/bin/linux/ubuntu bionic-cran40/ InRelease [3,626 B]\n",
            "Hit:2 http://archive.ubuntu.com/ubuntu bionic InRelease\n",
            "Get:3 http://security.ubuntu.com/ubuntu bionic-security InRelease [88.7 kB]\n",
            "Get:4 http://archive.ubuntu.com/ubuntu bionic-updates InRelease [88.7 kB]\n",
            "Get:5 http://ppa.launchpad.net/c2d4u.team/c2d4u4.0+/ubuntu bionic InRelease [15.9 kB]\n",
            "Get:6 https://cloud.r-project.org/bin/linux/ubuntu bionic-cran40/ Packages [90.7 kB]\n",
            "Ign:7 https://developer.download.nvidia.com/compute/machine-learning/repos/ubuntu1804/x86_64  InRelease\n",
            "Get:8 https://developer.download.nvidia.com/compute/cuda/repos/ubuntu1804/x86_64  InRelease [1,581 B]\n",
            "Hit:9 https://developer.download.nvidia.com/compute/machine-learning/repos/ubuntu1804/x86_64  Release\n",
            "Get:10 http://archive.ubuntu.com/ubuntu bionic-backports InRelease [74.6 kB]\n",
            "Hit:11 http://ppa.launchpad.net/cran/libgit2/ubuntu bionic InRelease\n",
            "Get:12 https://developer.download.nvidia.com/compute/cuda/repos/ubuntu1804/x86_64  Packages [903 kB]\n",
            "Get:13 http://security.ubuntu.com/ubuntu bionic-security/restricted amd64 Packages [1,100 kB]\n",
            "Get:14 http://ppa.launchpad.net/deadsnakes/ppa/ubuntu bionic InRelease [15.9 kB]\n",
            "Get:16 http://ppa.launchpad.net/graphics-drivers/ppa/ubuntu bionic InRelease [21.3 kB]\n",
            "Get:17 http://security.ubuntu.com/ubuntu bionic-security/universe amd64 Packages [1,533 kB]\n",
            "Get:18 http://archive.ubuntu.com/ubuntu bionic-updates/universe amd64 Packages [2,310 kB]\n",
            "Get:19 http://security.ubuntu.com/ubuntu bionic-security/main amd64 Packages [2,937 kB]\n",
            "Get:20 http://ppa.launchpad.net/c2d4u.team/c2d4u4.0+/ubuntu bionic/main Sources [2,080 kB]\n",
            "Get:21 http://archive.ubuntu.com/ubuntu bionic-updates/restricted amd64 Packages [1,141 kB]\n",
            "Get:22 http://archive.ubuntu.com/ubuntu bionic-updates/main amd64 Packages [3,369 kB]\n",
            "Get:23 http://ppa.launchpad.net/c2d4u.team/c2d4u4.0+/ubuntu bionic/main amd64 Packages [1,066 kB]\n",
            "Get:24 http://ppa.launchpad.net/deadsnakes/ppa/ubuntu bionic/main amd64 Packages [45.3 kB]\n",
            "Get:25 http://ppa.launchpad.net/graphics-drivers/ppa/ubuntu bionic/main amd64 Packages [47.7 kB]\n",
            "Fetched 16.9 MB in 8s (2,043 kB/s)\n",
            "Reading package lists... Done\n"
          ]
        }
      ],
      "source": [
        "# Dependencies\n",
        "import os\n",
        "import pandas as pd\n",
        "\n",
        "# set spark version\n",
        "spark_version = 'spark-3.0.3'\n",
        "os.environ['SPARK_VERSION']=spark_version\n",
        "\n",
        "# Install Spark and Java\n",
        "!apt-get update\n",
        "!apt-get install openjdk-11-jdk-headless -qq > /dev/null\n",
        "!wget -q http://archive.apache.org/dist/spark/$SPARK_VERSION/$SPARK_VERSION-bin-hadoop2.7.tgz\n",
        "!tar xf $SPARK_VERSION-bin-hadoop2.7.tgz\n",
        "!pip install -q findspark\n",
        "\n",
        "\n",
        "# Set Environment Variables\n",
        "os.environ[\"JAVA_HOME\"] = \"/usr/lib/jvm/java-11-openjdk-amd64\"\n",
        "os.environ[\"SPARK_HOME\"] = f\"/content/{spark_version}-bin-hadoop2.7\"\n",
        "\n",
        "# Start a SparkSession\n",
        "import findspark\n",
        "findspark.init()"
      ]
    },
    {
      "cell_type": "code",
      "source": [
        "!wget https://jdbc.postgresql.org/download/postgresql-42.2.9.jar"
      ],
      "metadata": {
        "id": "VvwxhwQi6A6B",
        "colab": {
          "base_uri": "https://localhost:8080/"
        },
        "outputId": "f92f7f76-883e-4901-9745-02f22bcbaf28"
      },
      "execution_count": 2,
      "outputs": [
        {
          "output_type": "stream",
          "name": "stdout",
          "text": [
            "--2022-08-14 23:40:53--  https://jdbc.postgresql.org/download/postgresql-42.2.9.jar\n",
            "Resolving jdbc.postgresql.org (jdbc.postgresql.org)... 72.32.157.228, 2001:4800:3e1:1::228\n",
            "Connecting to jdbc.postgresql.org (jdbc.postgresql.org)|72.32.157.228|:443... connected.\n",
            "HTTP request sent, awaiting response... 200 OK\n",
            "Length: 914037 (893K) [application/java-archive]\n",
            "Saving to: ‘postgresql-42.2.9.jar’\n",
            "\n",
            "postgresql-42.2.9.j 100%[===================>] 892.61K  1.26MB/s    in 0.7s    \n",
            "\n",
            "2022-08-14 23:40:55 (1.26 MB/s) - ‘postgresql-42.2.9.jar’ saved [914037/914037]\n",
            "\n"
          ]
        }
      ]
    },
    {
      "cell_type": "code",
      "source": [
        "from pyspark.sql import SparkSession\n",
        "spark = SparkSession.builder.appName(\"DataFrameBasics\").getOrCreate()"
      ],
      "metadata": {
        "id": "YrLUiZJd7dq8"
      },
      "execution_count": 3,
      "outputs": []
    },
    {
      "cell_type": "code",
      "source": [
        "from pyspark import SparkFiles\n",
        "url = \"https://s3.amazonaws.com/amazon-reviews-pds/tsv/amazon_reviews_us_Books_v1_00.tsv.gz\"\n",
        "spark.sparkContext.addFile(url)\n",
        "df = spark.read.csv(SparkFiles.get(\"amazon_reviews_us_Books_v1_00.tsv.gz\"), sep=\"\\t\", header=True)\n",
        "df.show()"
      ],
      "metadata": {
        "id": "Xb6BJF2V6zUd",
        "colab": {
          "base_uri": "https://localhost:8080/"
        },
        "outputId": "c24f5797-4e8a-4cac-b277-1a39d59f893c"
      },
      "execution_count": 4,
      "outputs": [
        {
          "output_type": "stream",
          "name": "stdout",
          "text": [
            "+-----------+-----------+--------------+----------+--------------+--------------------+----------------+-----------+-------------+-----------+----+-----------------+--------------------+--------------------+-----------+\n",
            "|marketplace|customer_id|     review_id|product_id|product_parent|       product_title|product_category|star_rating|helpful_votes|total_votes|vine|verified_purchase|     review_headline|         review_body|review_date|\n",
            "+-----------+-----------+--------------+----------+--------------+--------------------+----------------+-----------+-------------+-----------+----+-----------------+--------------------+--------------------+-----------+\n",
            "|         US|   25933450| RJOVP071AVAJO|0439873800|      84656342|There Was an Old ...|           Books|          5|            0|          0|   N|                Y|          Five Stars|I love it and so ...| 2015-08-31|\n",
            "|         US|    1801372|R1ORGBETCDW3AI|1623953553|     729938122|      I Saw a Friend|           Books|          5|            0|          0|   N|                Y|Please buy \"I Saw...|My wife and I ord...| 2015-08-31|\n",
            "|         US|    5782091| R7TNRFQAOUTX5|142151981X|     678139048|Black Lagoon, Vol. 6|           Books|          5|            0|          0|   N|                Y|       Shipped fast.|Great book just l...| 2015-08-31|\n",
            "|         US|   32715830|R2GANXKDIFZ6OI|014241543X|     712432151|           If I Stay|           Books|          5|            0|          0|   N|                N|          Five Stars|        So beautiful| 2015-08-31|\n",
            "|         US|   14005703|R2NYB6C3R8LVN6|1604600527|     800572372|Stars 'N Strips F...|           Books|          5|            2|          2|   N|                Y|          Five Stars|Enjoyed the autho...| 2015-08-31|\n",
            "|         US|   36205738|R13U5PBJI1H94K|0399170863|     559876774|            The Liar|           Books|          2|            1|          1|   N|                N|PREDICTABLE ALMOS...|Two or three page...| 2015-08-31|\n",
            "|         US|   44121167|R1H8UVH990F8VE|1517007240|     299984591|Devil in the Deta...|           Books|          5|            2|          2|   N|                N|The Monastery Mur...|&#34;Secrets in t...| 2015-08-31|\n",
            "|         US|   16519255|R2MC0N30WZMRQ5|0671728725|     821650353|Knowing When to S...|           Books|          5|            0|          0|   N|                Y|          Five Stars|          I love it!| 2015-08-31|\n",
            "|         US|   49361350| R2NO2HXK16Y4J|1111349533|     419457767|The American Pageant|           Books|          5|            0|          0|   N|                Y|          Five Stars|It was a great pu...| 2015-08-31|\n",
            "|         US|   11423253|R245YIAVJK82ZL|812211637X|     285887177|Punjabi C.L. Bibl...|           Books|          5|            0|          0|   N|                Y|          Five Stars|Quality product f...| 2015-08-31|\n",
            "|         US|   37536260| RFBMLBWQOZ1UM|0679413359|      58983679|The Aeneid (Every...|           Books|          5|            0|          0|   N|                Y|          Five Stars|          Very happy| 2015-08-31|\n",
            "|         US|   23614950| RHE1FEWV3KTQH|0983990662|     222024699|The YMCA of Middl...|           Books|          5|            0|          0|   N|                Y|Great history boo...|Love reading all ...| 2015-08-31|\n",
            "|         US|   12641855|R2BB9U7PHO7ETO|156852062X|     388128348|Memoirs By Harry ...|           Books|          5|            0|          1|   N|                Y|          Five Stars|such a great purc...| 2015-08-31|\n",
            "|         US|   36327169|R28XJJP754GYXO|B0007E4WJ4|     842975364|Arms of our fight...|           Books|          4|            0|          0|   N|                Y|          Four Stars|book was fine Tha...| 2015-08-31|\n",
            "|         US|   49735028|R2G519UREHRO8M|0664254969|     248307276|Presbyterian Cree...|           Books|          3|            0|          1|   N|                Y|The Presbyterian ...|The Presbyterian ...| 2015-08-31|\n",
            "|         US|   39348901| RPBKCEIN3UISD|1570913722|       9340721|Hello Ocean/Hola mar|           Books|          5|            0|          0|   N|                Y|          Five Stars|beautiful work an...| 2015-08-31|\n",
            "|         US|    5782091|R2DOB8482VGJ8W|0345313860|     630892090|The Vampire Lesta...|           Books|          5|            0|          0|   N|                Y|       Shipped fast.|This is my favori...| 2015-08-31|\n",
            "|         US|   30063158|R2XKOET5M8W36S|0670025593|     479521754|The Book of Life ...|           Books|          5|            0|          0|   N|                Y|One of my favorites!|Love Deborah Harn...| 2015-08-31|\n",
            "|         US|     125518|R377BCSTZ4D2QP|161893158X|     399670838|Disney Descendant...|           Books|          5|            1|          1|   N|                Y|... has all three...|Now my daughter h...| 2015-08-31|\n",
            "|         US|   22297413|R3A39XZ5SB97MK|007179512X|      47243107|CompTIA A+ Certif...|           Books|          5|            0|          0|   N|                Y|He said it has be...|Bought this book ...| 2015-08-31|\n",
            "+-----------+-----------+--------------+----------+--------------+--------------------+----------------+-----------+-------------+-----------+----+-----------------+--------------------+--------------------+-----------+\n",
            "only showing top 20 rows\n",
            "\n"
          ]
        }
      ]
    },
    {
      "cell_type": "code",
      "source": [
        "# Count the number of records (rows) in the dataset\n",
        "df.count()"
      ],
      "metadata": {
        "id": "m-y-Y07XKyYT",
        "colab": {
          "base_uri": "https://localhost:8080/"
        },
        "outputId": "993599c9-2a84-4c0a-8a18-83fc995447dc"
      },
      "execution_count": 5,
      "outputs": [
        {
          "output_type": "execute_result",
          "data": {
            "text/plain": [
              "10319090"
            ]
          },
          "metadata": {},
          "execution_count": 5
        }
      ]
    },
    {
      "cell_type": "code",
      "source": [
        "# Drop NaN values\n",
        "df = df.dropna(how=\"any\")"
      ],
      "metadata": {
        "id": "GKo-xitGSHgh"
      },
      "execution_count": 6,
      "outputs": []
    },
    {
      "cell_type": "code",
      "source": [
        "# Create review_id_table dataframe\n",
        "review_id_table_df = df.select([\"review_id\", \"customer_id\", \"product_id\", \"product_parent\", \"review_date\"])\n",
        "review_id_table_df.show()"
      ],
      "metadata": {
        "id": "StgA2x2x6zHo",
        "colab": {
          "base_uri": "https://localhost:8080/"
        },
        "outputId": "cf1d0f57-be34-46be-b755-8f324789f888"
      },
      "execution_count": 7,
      "outputs": [
        {
          "output_type": "stream",
          "name": "stdout",
          "text": [
            "+--------------+-----------+----------+--------------+-----------+\n",
            "|     review_id|customer_id|product_id|product_parent|review_date|\n",
            "+--------------+-----------+----------+--------------+-----------+\n",
            "| RJOVP071AVAJO|   25933450|0439873800|      84656342| 2015-08-31|\n",
            "|R1ORGBETCDW3AI|    1801372|1623953553|     729938122| 2015-08-31|\n",
            "| R7TNRFQAOUTX5|    5782091|142151981X|     678139048| 2015-08-31|\n",
            "|R2GANXKDIFZ6OI|   32715830|014241543X|     712432151| 2015-08-31|\n",
            "|R2NYB6C3R8LVN6|   14005703|1604600527|     800572372| 2015-08-31|\n",
            "|R13U5PBJI1H94K|   36205738|0399170863|     559876774| 2015-08-31|\n",
            "|R1H8UVH990F8VE|   44121167|1517007240|     299984591| 2015-08-31|\n",
            "|R2MC0N30WZMRQ5|   16519255|0671728725|     821650353| 2015-08-31|\n",
            "| R2NO2HXK16Y4J|   49361350|1111349533|     419457767| 2015-08-31|\n",
            "|R245YIAVJK82ZL|   11423253|812211637X|     285887177| 2015-08-31|\n",
            "| RFBMLBWQOZ1UM|   37536260|0679413359|      58983679| 2015-08-31|\n",
            "| RHE1FEWV3KTQH|   23614950|0983990662|     222024699| 2015-08-31|\n",
            "|R2BB9U7PHO7ETO|   12641855|156852062X|     388128348| 2015-08-31|\n",
            "|R28XJJP754GYXO|   36327169|B0007E4WJ4|     842975364| 2015-08-31|\n",
            "|R2G519UREHRO8M|   49735028|0664254969|     248307276| 2015-08-31|\n",
            "| RPBKCEIN3UISD|   39348901|1570913722|       9340721| 2015-08-31|\n",
            "|R2DOB8482VGJ8W|    5782091|0345313860|     630892090| 2015-08-31|\n",
            "|R2XKOET5M8W36S|   30063158|0670025593|     479521754| 2015-08-31|\n",
            "|R377BCSTZ4D2QP|     125518|161893158X|     399670838| 2015-08-31|\n",
            "|R3A39XZ5SB97MK|   22297413|007179512X|      47243107| 2015-08-31|\n",
            "+--------------+-----------+----------+--------------+-----------+\n",
            "only showing top 20 rows\n",
            "\n"
          ]
        }
      ]
    },
    {
      "cell_type": "code",
      "source": [
        "# Create review_id_table dataframe\n",
        "review_id_table_df = df.select([\"review_id\", \"customer_id\", \"product_id\", \"product_parent\", \"review_date\"])\n",
        "review_id_table_df.show()"
      ],
      "metadata": {
        "id": "XkeONTzzil7D",
        "colab": {
          "base_uri": "https://localhost:8080/"
        },
        "outputId": "8f090fe6-b515-457d-eaf2-640a70fa0aaf"
      },
      "execution_count": 8,
      "outputs": [
        {
          "output_type": "stream",
          "name": "stdout",
          "text": [
            "+--------------+-----------+----------+--------------+-----------+\n",
            "|     review_id|customer_id|product_id|product_parent|review_date|\n",
            "+--------------+-----------+----------+--------------+-----------+\n",
            "| RJOVP071AVAJO|   25933450|0439873800|      84656342| 2015-08-31|\n",
            "|R1ORGBETCDW3AI|    1801372|1623953553|     729938122| 2015-08-31|\n",
            "| R7TNRFQAOUTX5|    5782091|142151981X|     678139048| 2015-08-31|\n",
            "|R2GANXKDIFZ6OI|   32715830|014241543X|     712432151| 2015-08-31|\n",
            "|R2NYB6C3R8LVN6|   14005703|1604600527|     800572372| 2015-08-31|\n",
            "|R13U5PBJI1H94K|   36205738|0399170863|     559876774| 2015-08-31|\n",
            "|R1H8UVH990F8VE|   44121167|1517007240|     299984591| 2015-08-31|\n",
            "|R2MC0N30WZMRQ5|   16519255|0671728725|     821650353| 2015-08-31|\n",
            "| R2NO2HXK16Y4J|   49361350|1111349533|     419457767| 2015-08-31|\n",
            "|R245YIAVJK82ZL|   11423253|812211637X|     285887177| 2015-08-31|\n",
            "| RFBMLBWQOZ1UM|   37536260|0679413359|      58983679| 2015-08-31|\n",
            "| RHE1FEWV3KTQH|   23614950|0983990662|     222024699| 2015-08-31|\n",
            "|R2BB9U7PHO7ETO|   12641855|156852062X|     388128348| 2015-08-31|\n",
            "|R28XJJP754GYXO|   36327169|B0007E4WJ4|     842975364| 2015-08-31|\n",
            "|R2G519UREHRO8M|   49735028|0664254969|     248307276| 2015-08-31|\n",
            "| RPBKCEIN3UISD|   39348901|1570913722|       9340721| 2015-08-31|\n",
            "|R2DOB8482VGJ8W|    5782091|0345313860|     630892090| 2015-08-31|\n",
            "|R2XKOET5M8W36S|   30063158|0670025593|     479521754| 2015-08-31|\n",
            "|R377BCSTZ4D2QP|     125518|161893158X|     399670838| 2015-08-31|\n",
            "|R3A39XZ5SB97MK|   22297413|007179512X|      47243107| 2015-08-31|\n",
            "+--------------+-----------+----------+--------------+-----------+\n",
            "only showing top 20 rows\n",
            "\n"
          ]
        }
      ]
    },
    {
      "cell_type": "code",
      "source": [
        "# Create products_table dataframe\n",
        "products_table_df = df.select([\"product_id\", \"product_title\"])\n",
        "products_table_df.show()"
      ],
      "metadata": {
        "id": "dNyyJ_TJil1J",
        "colab": {
          "base_uri": "https://localhost:8080/"
        },
        "outputId": "2ed15713-d5f7-4965-8353-b8c884661625"
      },
      "execution_count": 9,
      "outputs": [
        {
          "output_type": "stream",
          "name": "stdout",
          "text": [
            "+----------+--------------------+\n",
            "|product_id|       product_title|\n",
            "+----------+--------------------+\n",
            "|0439873800|There Was an Old ...|\n",
            "|1623953553|      I Saw a Friend|\n",
            "|142151981X|Black Lagoon, Vol. 6|\n",
            "|014241543X|           If I Stay|\n",
            "|1604600527|Stars 'N Strips F...|\n",
            "|0399170863|            The Liar|\n",
            "|1517007240|Devil in the Deta...|\n",
            "|0671728725|Knowing When to S...|\n",
            "|1111349533|The American Pageant|\n",
            "|812211637X|Punjabi C.L. Bibl...|\n",
            "|0679413359|The Aeneid (Every...|\n",
            "|0983990662|The YMCA of Middl...|\n",
            "|156852062X|Memoirs By Harry ...|\n",
            "|B0007E4WJ4|Arms of our fight...|\n",
            "|0664254969|Presbyterian Cree...|\n",
            "|1570913722|Hello Ocean/Hola mar|\n",
            "|0345313860|The Vampire Lesta...|\n",
            "|0670025593|The Book of Life ...|\n",
            "|161893158X|Disney Descendant...|\n",
            "|007179512X|CompTIA A+ Certif...|\n",
            "+----------+--------------------+\n",
            "only showing top 20 rows\n",
            "\n"
          ]
        }
      ]
    },
    {
      "cell_type": "code",
      "source": [
        "# Create customers_table dataframe\n",
        "customers_table_df = df.groupby(\"customer_id\").agg({\"customer_id\": \"count\"}).withColumnRenamed(\"count(customer_id)\", \"customer_count\")\n",
        "customers_table_df.show()"
      ],
      "metadata": {
        "id": "WlGLNN25ilae",
        "colab": {
          "base_uri": "https://localhost:8080/"
        },
        "outputId": "9b90b9f2-f5cc-4801-baa1-a8c41d0f6bf3"
      },
      "execution_count": 13,
      "outputs": [
        {
          "output_type": "stream",
          "name": "stdout",
          "text": [
            "+-----------+--------------+\n",
            "|customer_id|customer_count|\n",
            "+-----------+--------------+\n",
            "|   37119503|             3|\n",
            "|    3180632|             1|\n",
            "|   14335758|             6|\n",
            "|   44892935|             1|\n",
            "|     740955|             1|\n",
            "|   20228001|             4|\n",
            "|   23810736|             1|\n",
            "|   51291733|             1|\n",
            "|   10632307|             1|\n",
            "|   40758291|            21|\n",
            "|   30142445|             2|\n",
            "|   17356431|             8|\n",
            "|   49948219|             3|\n",
            "|   47840769|             2|\n",
            "|   41826621|             2|\n",
            "|   15073256|             1|\n",
            "|   43801871|             5|\n",
            "|    3223564|             1|\n",
            "|   29191691|            22|\n",
            "|   51052113|            79|\n",
            "+-----------+--------------+\n",
            "only showing top 20 rows\n",
            "\n"
          ]
        }
      ]
    },
    {
      "cell_type": "code",
      "source": [
        "# Create vine_table dataframe\n",
        "vine_table_df = df.select([\"review_id\", \"star_rating\", \"helpful_votes\", \"total_votes\", \"vine\"])\n",
        "vine_table_df.show()"
      ],
      "metadata": {
        "id": "mdako92U6BEk",
        "colab": {
          "base_uri": "https://localhost:8080/"
        },
        "outputId": "eed5dfcf-9034-4f98-c29d-eebb80056b9b"
      },
      "execution_count": 14,
      "outputs": [
        {
          "output_type": "stream",
          "name": "stdout",
          "text": [
            "+--------------+-----------+-------------+-----------+----+\n",
            "|     review_id|star_rating|helpful_votes|total_votes|vine|\n",
            "+--------------+-----------+-------------+-----------+----+\n",
            "| RJOVP071AVAJO|          5|            0|          0|   N|\n",
            "|R1ORGBETCDW3AI|          5|            0|          0|   N|\n",
            "| R7TNRFQAOUTX5|          5|            0|          0|   N|\n",
            "|R2GANXKDIFZ6OI|          5|            0|          0|   N|\n",
            "|R2NYB6C3R8LVN6|          5|            2|          2|   N|\n",
            "|R13U5PBJI1H94K|          2|            1|          1|   N|\n",
            "|R1H8UVH990F8VE|          5|            2|          2|   N|\n",
            "|R2MC0N30WZMRQ5|          5|            0|          0|   N|\n",
            "| R2NO2HXK16Y4J|          5|            0|          0|   N|\n",
            "|R245YIAVJK82ZL|          5|            0|          0|   N|\n",
            "| RFBMLBWQOZ1UM|          5|            0|          0|   N|\n",
            "| RHE1FEWV3KTQH|          5|            0|          0|   N|\n",
            "|R2BB9U7PHO7ETO|          5|            0|          1|   N|\n",
            "|R28XJJP754GYXO|          4|            0|          0|   N|\n",
            "|R2G519UREHRO8M|          3|            0|          1|   N|\n",
            "| RPBKCEIN3UISD|          5|            0|          0|   N|\n",
            "|R2DOB8482VGJ8W|          5|            0|          0|   N|\n",
            "|R2XKOET5M8W36S|          5|            0|          0|   N|\n",
            "|R377BCSTZ4D2QP|          5|            1|          1|   N|\n",
            "|R3A39XZ5SB97MK|          5|            0|          0|   N|\n",
            "+--------------+-----------+-------------+-----------+----+\n",
            "only showing top 20 rows\n",
            "\n"
          ]
        }
      ]
    },
    {
      "cell_type": "code",
      "source": [
        "# Postgres setup\n",
        "# Configure settings for RDS\n",
        "mode = \"append\"\n",
        "jdbc_url = \"jdbc:postgresql://amazonbookreviews.c0xjlfeovn0x.us-west-2.rds.amazonaws.com:5432/amazonbookreviews\"\n",
        "config = {\"user\":\"<postgres username>\", \n",
        "          \"password\":\"<password>\", \n",
        "          \"driver\":\"org.postgresql.Driver\"}"
      ],
      "metadata": {
        "id": "5TiEB5bjKO5U"
      },
      "execution_count": 15,
      "outputs": []
    },
    {
      "cell_type": "code",
      "source": [
        "# Write dataframe to review_id_table in RDS\n",
        "review_id_table_df.write.jdbc(url=jdbc_url, table=\"review_id_table\", mode=mode, properties=config)"
      ],
      "metadata": {
        "id": "_JQVAQbjKOka"
      },
      "execution_count": null,
      "outputs": []
    },
    {
      "cell_type": "code",
      "source": [
        "# Write dataframe to products_table in RDS\n",
        "products_table_df.write.jdbc(url=jdbc_url, table=\"products_table\", mode=mode, properties=config)"
      ],
      "metadata": {
        "id": "zL16JQlFjmy6"
      },
      "execution_count": null,
      "outputs": []
    },
    {
      "cell_type": "code",
      "source": [
        "# Write dataframe to customers_table in RDS\n",
        "customers_table_df.write.jdbc(url=jdbc_url, table=\"customers_table\", mode=mode, properties=config)"
      ],
      "metadata": {
        "id": "9YtqvCt7jmPq"
      },
      "execution_count": null,
      "outputs": []
    },
    {
      "cell_type": "code",
      "source": [
        "# Write dataframe to vine_table in RDS\n",
        "vine_table_df.write.jdbc(url=jdbc_url, table=\"vine_table\", mode=mode, properties=config)"
      ],
      "metadata": {
        "id": "AWlldy0rjmDd"
      },
      "execution_count": null,
      "outputs": []
    }
  ]
}
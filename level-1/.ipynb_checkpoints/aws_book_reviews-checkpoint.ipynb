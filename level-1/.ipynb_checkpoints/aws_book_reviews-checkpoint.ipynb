{
 "cells": [
  {
   "cell_type": "code",
   "execution_count": null,
   "metadata": {
    "colab": {
     "base_uri": "https://localhost:8080/"
    },
    "id": "I1g-3N6Tt9H1",
    "outputId": "a557357b-c6af-430a-d4b0-1bd7c540f01d"
   },
   "outputs": [],
   "source": [
    "# Dependencies\n",
    "import os\n",
    "import pandas as pd\n",
    "\n",
    "# set spark version\n",
    "spark_version = 'spark-3.0.3'\n",
    "os.environ['SPARK_VERSION']=spark_version\n",
    "\n",
    "# Install Spark and Java\n",
    "!apt-get update\n",
    "!apt-get install openjdk-11-jdk-headless -qq > /dev/null\n",
    "!wget -q http://archive.apache.org/dist/spark/$SPARK_VERSION/$SPARK_VERSION-bin-hadoop2.7.tgz\n",
    "!tar xf $SPARK_VERSION-bin-hadoop2.7.tgz\n",
    "!pip install -q findspark\n",
    "\n",
    "\n",
    "# Set Environment Variables\n",
    "os.environ[\"JAVA_HOME\"] = \"/usr/lib/jvm/java-11-openjdk-amd64\"\n",
    "os.environ[\"SPARK_HOME\"] = f\"/content/{spark_version}-bin-hadoop2.7\"\n",
    "\n",
    "# Start a SparkSession\n",
    "import findspark\n",
    "findspark.init()"
   ]
  },
  {
   "cell_type": "code",
   "execution_count": null,
   "metadata": {
    "colab": {
     "base_uri": "https://localhost:8080/"
    },
    "id": "VvwxhwQi6A6B",
    "outputId": "f92f7f76-883e-4901-9745-02f22bcbaf28"
   },
   "outputs": [],
   "source": [
    "!wget https://jdbc.postgresql.org/download/postgresql-42.2.9.jar"
   ]
  },
  {
   "cell_type": "code",
   "execution_count": null,
   "metadata": {
    "id": "YrLUiZJd7dq8"
   },
   "outputs": [],
   "source": [
    "from pyspark.sql import SparkSession\n",
    "spark = SparkSession.builder.appName(\"DataFrameBasics\").getOrCreate()"
   ]
  },
  {
   "cell_type": "code",
   "execution_count": null,
   "metadata": {
    "colab": {
     "base_uri": "https://localhost:8080/"
    },
    "id": "Xb6BJF2V6zUd",
    "outputId": "c24f5797-4e8a-4cac-b277-1a39d59f893c"
   },
   "outputs": [],
   "source": [
    "from pyspark import SparkFiles\n",
    "url = \"https://s3.amazonaws.com/amazon-reviews-pds/tsv/amazon_reviews_us_Books_v1_00.tsv.gz\"\n",
    "spark.sparkContext.addFile(url)\n",
    "df = spark.read.csv(SparkFiles.get(\"amazon_reviews_us_Books_v1_00.tsv.gz\"), sep=\"\\t\", header=True)\n",
    "df.show()"
   ]
  },
  {
   "cell_type": "code",
   "execution_count": null,
   "metadata": {
    "colab": {
     "base_uri": "https://localhost:8080/"
    },
    "id": "m-y-Y07XKyYT",
    "outputId": "993599c9-2a84-4c0a-8a18-83fc995447dc"
   },
   "outputs": [],
   "source": [
    "# Count the number of records (rows) in the dataset\n",
    "df.count()"
   ]
  },
  {
   "cell_type": "code",
   "execution_count": null,
   "metadata": {
    "id": "GKo-xitGSHgh"
   },
   "outputs": [],
   "source": [
    "# Drop NaN values\n",
    "df = df.dropna(how=\"any\")"
   ]
  },
  {
   "cell_type": "code",
   "execution_count": null,
   "metadata": {
    "colab": {
     "base_uri": "https://localhost:8080/"
    },
    "id": "StgA2x2x6zHo",
    "outputId": "cf1d0f57-be34-46be-b755-8f324789f888"
   },
   "outputs": [],
   "source": [
    "# Create review_id_table dataframe\n",
    "review_id_table_df = df.select([\"review_id\", \"customer_id\", \"product_id\", \"product_parent\", \"review_date\"])\n",
    "review_id_table_df.show()"
   ]
  },
  {
   "cell_type": "code",
   "execution_count": null,
   "metadata": {
    "colab": {
     "base_uri": "https://localhost:8080/"
    },
    "id": "XkeONTzzil7D",
    "outputId": "8f090fe6-b515-457d-eaf2-640a70fa0aaf"
   },
   "outputs": [],
   "source": [
    "# Create review_id_table dataframe\n",
    "review_id_table_df = df.select([\"review_id\", \"customer_id\", \"product_id\", \"product_parent\", \"review_date\"])\n",
    "review_id_table_df.show()"
   ]
  },
  {
   "cell_type": "code",
   "execution_count": null,
   "metadata": {
    "colab": {
     "base_uri": "https://localhost:8080/"
    },
    "id": "dNyyJ_TJil1J",
    "outputId": "2ed15713-d5f7-4965-8353-b8c884661625"
   },
   "outputs": [],
   "source": [
    "# Create products_table dataframe\n",
    "products_table_df = df.select([\"product_id\", \"product_title\"])\n",
    "products_table_df.show()"
   ]
  },
  {
   "cell_type": "code",
   "execution_count": null,
   "metadata": {
    "colab": {
     "base_uri": "https://localhost:8080/"
    },
    "id": "WlGLNN25ilae",
    "outputId": "9b90b9f2-f5cc-4801-baa1-a8c41d0f6bf3"
   },
   "outputs": [],
   "source": [
    "# Create customers_table dataframe\n",
    "customers_table_df = df.groupby(\"customer_id\").agg({\"customer_id\": \"count\"}).withColumnRenamed(\"count(customer_id)\", \"customer_count\")\n",
    "customers_table_df.show()"
   ]
  },
  {
   "cell_type": "code",
   "execution_count": null,
   "metadata": {
    "colab": {
     "base_uri": "https://localhost:8080/"
    },
    "id": "mdako92U6BEk",
    "outputId": "eed5dfcf-9034-4f98-c29d-eebb80056b9b"
   },
   "outputs": [],
   "source": [
    "# Create vine_table dataframe\n",
    "vine_table_df = df.select([\"review_id\", \"star_rating\", \"helpful_votes\", \"total_votes\", \"vine\"])\n",
    "vine_table_df.show()"
   ]
  },
  {
   "cell_type": "code",
   "execution_count": null,
   "metadata": {
    "id": "5TiEB5bjKO5U"
   },
   "outputs": [],
   "source": [
    "# Postgres setup\n",
    "# Configure settings for RDS\n",
    "mode = \"append\"\n",
    "jdbc_url = \"jdbc:postgresql://amazonbookreviews.c0xjlfeovn0x.us-west-2.rds.amazonaws.com:5432/amazonbookreviews\"\n",
    "config = {\"user\":\"<postgres username>\", \n",
    "          \"password\":\"<password>\", \n",
    "          \"driver\":\"org.postgresql.Driver\"}"
   ]
  },
  {
   "cell_type": "code",
   "execution_count": null,
   "metadata": {
    "id": "_JQVAQbjKOka"
   },
   "outputs": [],
   "source": [
    "# Write dataframe to review_id_table in RDS\n",
    "review_id_table_df.write.jdbc(url=jdbc_url, table=\"review_id_table\", mode=mode, properties=config)"
   ]
  },
  {
   "cell_type": "code",
   "execution_count": null,
   "metadata": {
    "id": "zL16JQlFjmy6"
   },
   "outputs": [],
   "source": [
    "# Write dataframe to products_table in RDS\n",
    "products_table_df.write.jdbc(url=jdbc_url, table=\"products_table\", mode=mode, properties=config)"
   ]
  },
  {
   "cell_type": "code",
   "execution_count": null,
   "metadata": {
    "id": "9YtqvCt7jmPq"
   },
   "outputs": [],
   "source": [
    "# Write dataframe to customers_table in RDS\n",
    "customers_table_df.write.jdbc(url=jdbc_url, table=\"customers_table\", mode=mode, properties=config)"
   ]
  },
  {
   "cell_type": "code",
   "execution_count": null,
   "metadata": {
    "id": "AWlldy0rjmDd"
   },
   "outputs": [],
   "source": [
    "# Write dataframe to vine_table in RDS\n",
    "vine_table_df.write.jdbc(url=jdbc_url, table=\"vine_table\", mode=mode, properties=config)"
   ]
  }
 ],
 "metadata": {
  "colab": {
   "collapsed_sections": [],
   "name": "aws-book-reviews.ipynb",
   "provenance": []
  },
  "kernelspec": {
   "display_name": "Python 3 (ipykernel)",
   "language": "python",
   "name": "python3"
  },
  "language_info": {
   "codemirror_mode": {
    "name": "ipython",
    "version": 3
   },
   "file_extension": ".py",
   "mimetype": "text/x-python",
   "name": "python",
   "nbconvert_exporter": "python",
   "pygments_lexer": "ipython3",
   "version": "3.8.12"
  }
 },
 "nbformat": 4,
 "nbformat_minor": 1
}
